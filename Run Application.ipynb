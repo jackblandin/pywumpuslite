{
 "cells": [
  {
   "cell_type": "markdown",
   "metadata": {
    "ExecuteTime": {
     "end_time": "2019-01-26T22:36:22.672080Z",
     "start_time": "2019-01-26T22:36:22.669365Z"
    }
   },
   "source": [
    "# Setup"
   ]
  },
  {
   "cell_type": "code",
   "execution_count": 3,
   "metadata": {
    "ExecuteTime": {
     "end_time": "2019-03-09T22:01:42.217453Z",
     "start_time": "2019-03-09T22:01:42.192922Z"
    }
   },
   "outputs": [
    {
     "name": "stdout",
     "output_type": "stream",
     "text": [
      "/Users/jblandin/my/school-local/cs511/pywumpuslite already in sys.path\n",
      "/Users/jblandin/my/school-local/cs511/pywumpuslite already in sys.path\n",
      "/Users/jblandin/my/school-local/cs511/pywumpuslite already in sys.path\n",
      "/Users/jblandin/my/school-local/cs511/pywumpuslite already in sys.path\n",
      "/Users/jblandin/my/school-local/cs511/pywumpuslite already in sys.path\n",
      "/Users/jblandin/my/school-local/cs511/pywumpuslite already in sys.path\n",
      "/Users/jblandin/my/school-local/cs511/pywumpuslite already in sys.path\n"
     ]
    }
   ],
   "source": [
    "import sys\n",
    "import importlib\n",
    "\n",
    "src_path = '/Users/jblandin/my/school-local/cs511/pywumpuslite'\n",
    "\n",
    "def reload_module_by_name(mod_name, var_name, path):\n",
    "    if path is not None and path not in sys.path:\n",
    "        sys.path.append(path)\n",
    "        print('Appended {} to sys.path'.format(path))\n",
    "    else:\n",
    "        print('{} already in sys.path'.format(path))\n",
    "                \n",
    "    for mod in list(sys.modules.keys()):\n",
    "        if mod_name in mod:\n",
    "            del sys.modules[mod]\n",
    "    \n",
    "    if var_name in globals():\n",
    "        del globals()[var_name] # deletes the variable named <var_name>\n",
    "    return importlib.__import__(mod_name)\n",
    "\n",
    "def reload(path=src_path):\n",
    "    global agent_function, agent, environment, simulation, transfer_percept, world_application, action\n",
    "    agent_function = reload_module_by_name('agent_function', 'agent_function', path=path)\n",
    "    agent = reload_module_by_name('agent', 'agent', path=path)\n",
    "    environment = reload_module_by_name('environment', 'environment', path=path)\n",
    "    simulation = reload_module_by_name('simulation', 'simulation', path=path)\n",
    "    transfer_percept = reload_module_by_name('transfer_percept', 'transfer_percept', path=path)\n",
    "    world_application = reload_module_by_name('world_application', 'world_application', path=path)\n",
    "    action = reload_module_by_name('action', 'action', path=path)\n",
    "    import agent_function, agent, environment, simulation, transfer_percept, world_application\n",
    "    \n",
    "reload(src_path)"
   ]
  },
  {
   "cell_type": "markdown",
   "metadata": {},
   "source": [
    "# Run"
   ]
  },
  {
   "cell_type": "code",
   "execution_count": 101,
   "metadata": {
    "ExecuteTime": {
     "end_time": "2019-03-10T22:57:28.290380Z",
     "start_time": "2019-03-10T22:57:28.256414Z"
    },
    "scrolled": false
   },
   "outputs": [
    {
     "name": "stdout",
     "output_type": "stream",
     "text": [
      "/Users/jblandin/my/school-local/cs511/pywumpuslite already in sys.path\n",
      "/Users/jblandin/my/school-local/cs511/pywumpuslite already in sys.path\n",
      "/Users/jblandin/my/school-local/cs511/pywumpuslite already in sys.path\n",
      "/Users/jblandin/my/school-local/cs511/pywumpuslite already in sys.path\n",
      "/Users/jblandin/my/school-local/cs511/pywumpuslite already in sys.path\n",
      "/Users/jblandin/my/school-local/cs511/pywumpuslite already in sys.path\n",
      "/Users/jblandin/my/school-local/cs511/pywumpuslite already in sys.path\n",
      "\n",
      "Dimensions: 4 x 4\n",
      "Maximum number of steps: 50\n",
      "Number of trials: 1\n",
      "Random agent location: False\n",
      "Random number seed: -373665\n",
      "Output filename: wumpus_output.txt\n",
      "Non-Deterministic Behavior: False\n",
      "\n",
      "Posterior Death probs\n",
      "---------------------\n",
      "\n",
      " 0.191  0.191  0.191  0.191 \n",
      "\n",
      " 0.191  0.191  0.191  0.191 \n",
      "\n",
      " 0.191  0.191  0.191  0.191 \n",
      "\n",
      " -----  0.191  0.191  0.191 \n",
      "\n",
      "\n",
      " -----------------------\n",
      "|     |     |     |     | \n",
      "|     |     | G   |     | \n",
      " -----------------------\n",
      "| P   | P W |     |     | \n",
      "|     |     |     |     | \n",
      " -----------------------\n",
      "|     |     |     |     | \n",
      "|     |     |     |     | \n",
      " -----------------------\n",
      "|     |     |     |     | \n",
      "|   > |     |     |     | \n",
      " -----------------------\n",
      "\n",
      "\n",
      "Percept: < none, none, none, none, none >\n",
      "\n",
      "Current score: 0\n",
      "Last action: START_TRIAL\n",
      "Time step: 0\n",
      "\n",
      "Posterior Death probs\n",
      "---------------------\n",
      "\n",
      " 0.219  0.219  0.219  0.219 \n",
      "\n",
      " 0.219  0.219  0.219  0.219 \n",
      "\n",
      " -----  0.219  0.219  0.219 \n",
      "\n",
      " -----  -----  0.219  0.219 \n",
      "\n",
      "\n",
      "Posterior Death probs\n",
      "---------------------\n",
      "\n",
      " 0.219  0.219  0.219  0.219 \n",
      "\n",
      " 0.219  0.219  0.219  0.219 \n",
      "\n",
      " -----  0.219  0.219  0.219 \n",
      "\n",
      " -----  -----  0.219  0.219 \n",
      "\n",
      "\n",
      "Posterior Death probs\n",
      "---------------------\n",
      "\n",
      " 0.219  0.219  0.219  0.219 \n",
      "\n",
      " 0.219  0.219  0.219  0.219 \n",
      "\n",
      " -----  0.219  0.219  0.219 \n",
      "\n",
      " -----  -----  0.219  0.219 \n",
      "\n",
      "\n",
      "Posterior Death probs\n",
      "---------------------\n",
      "\n",
      " 0.219  0.219  0.219  0.219 \n",
      "\n",
      " 0.219  0.219  0.219  0.219 \n",
      "\n",
      " -----  0.219  0.219  0.219 \n",
      "\n",
      " -----  -----  0.219  0.219 \n",
      "\n",
      "removing TURN_RIGHT from possible actions since agent would face a wall.\n",
      "Moving forward since path is clear.\n",
      "frontier locs: [[0, 1], [1, 0]]\n"
     ]
    },
    {
     "ename": "NameError",
     "evalue": "name 'frontier_locs' is not defined",
     "output_type": "error",
     "traceback": [
      "\u001b[0;31m---------------------------------------------------------------------------\u001b[0m",
      "\u001b[0;31mNameError\u001b[0m                                 Traceback (most recent call last)",
      "\u001b[0;32m<ipython-input-101-fdc92943b3da>\u001b[0m in \u001b[0;36m<module>\u001b[0;34m()\u001b[0m\n\u001b[1;32m      3\u001b[0m \u001b[0mout_writer\u001b[0m \u001b[0;34m=\u001b[0m \u001b[0mopen\u001b[0m\u001b[0;34m(\u001b[0m\u001b[0;34m'wumpus_output.txt'\u001b[0m\u001b[0;34m,\u001b[0m \u001b[0;34m'w'\u001b[0m\u001b[0;34m)\u001b[0m\u001b[0;34m\u001b[0m\u001b[0;34m\u001b[0m\u001b[0m\n\u001b[1;32m      4\u001b[0m \u001b[0;34m\u001b[0m\u001b[0m\n\u001b[0;32m----> 5\u001b[0;31m \u001b[0mworld_application\u001b[0m\u001b[0;34m.\u001b[0m\u001b[0mrun_application\u001b[0m\u001b[0;34m(\u001b[0m\u001b[0mnum_trials\u001b[0m\u001b[0;34m=\u001b[0m\u001b[0;36m1\u001b[0m\u001b[0;34m,\u001b[0m \u001b[0mmax_steps\u001b[0m\u001b[0;34m=\u001b[0m\u001b[0;36m50\u001b[0m\u001b[0;34m)\u001b[0m\u001b[0;34m\u001b[0m\u001b[0;34m\u001b[0m\u001b[0m\n\u001b[0m",
      "\u001b[0;32m~/my/school-local/cs511/pywumpuslite/world_application.py\u001b[0m in \u001b[0;36mrun_application\u001b[0;34m(world_size, max_steps, num_trials, random_agent_loc, seed, non_deterministic_mode, random_world, out_filename, out_writer)\u001b[0m\n\u001b[1;32m     65\u001b[0m         trial = Simulation(wumpus_env, max_steps, out_writer,\n\u001b[1;32m     66\u001b[0m                            non_deterministic_mode)\n\u001b[0;32m---> 67\u001b[0;31m         \u001b[0mtrial\u001b[0m\u001b[0;34m.\u001b[0m\u001b[0mrun\u001b[0m\u001b[0;34m(\u001b[0m\u001b[0;34m)\u001b[0m\u001b[0;34m\u001b[0m\u001b[0;34m\u001b[0m\u001b[0m\n\u001b[0m\u001b[1;32m     68\u001b[0m         \u001b[0mtrial_scores\u001b[0m\u001b[0;34m[\u001b[0m\u001b[0mi\u001b[0m\u001b[0;34m]\u001b[0m \u001b[0;34m=\u001b[0m \u001b[0mtrial\u001b[0m\u001b[0;34m.\u001b[0m\u001b[0mget_score\u001b[0m\u001b[0;34m(\u001b[0m\u001b[0;34m)\u001b[0m\u001b[0;34m\u001b[0m\u001b[0;34m\u001b[0m\u001b[0m\n\u001b[1;32m     69\u001b[0m         \u001b[0;32mif\u001b[0m \u001b[0mtrial\u001b[0m\u001b[0;34m.\u001b[0m\u001b[0mget_did_agent_find_gold\u001b[0m\u001b[0;34m(\u001b[0m\u001b[0;34m)\u001b[0m\u001b[0;34m:\u001b[0m\u001b[0;34m\u001b[0m\u001b[0;34m\u001b[0m\u001b[0m\n",
      "\u001b[0;32m~/my/school-local/cs511/pywumpuslite/simulation.py\u001b[0m in \u001b[0;36mrun\u001b[0;34m(self)\u001b[0m\n\u001b[1;32m     51\u001b[0m             \u001b[0mout\u001b[0m\u001b[0;34m(\u001b[0m\u001b[0mself\u001b[0m\u001b[0;34m.\u001b[0m\u001b[0mout_writer\u001b[0m\u001b[0;34m,\u001b[0m \u001b[0mmsg\u001b[0m\u001b[0;34m)\u001b[0m\u001b[0;34m\u001b[0m\u001b[0;34m\u001b[0m\u001b[0m\n\u001b[1;32m     52\u001b[0m \u001b[0;34m\u001b[0m\u001b[0m\n\u001b[0;32m---> 53\u001b[0;31m             \u001b[0mself\u001b[0m\u001b[0;34m.\u001b[0m\u001b[0m_handle_action\u001b[0m\u001b[0;34m(\u001b[0m\u001b[0magent\u001b[0m\u001b[0;34m,\u001b[0m \u001b[0magent\u001b[0m\u001b[0;34m.\u001b[0m\u001b[0mchoose_action\u001b[0m\u001b[0;34m(\u001b[0m\u001b[0;34m)\u001b[0m\u001b[0;34m,\u001b[0m \u001b[0menv\u001b[0m\u001b[0;34m)\u001b[0m\u001b[0;34m\u001b[0m\u001b[0;34m\u001b[0m\u001b[0m\n\u001b[0m\u001b[1;32m     54\u001b[0m             \u001b[0menv\u001b[0m\u001b[0;34m.\u001b[0m\u001b[0mplace_agent\u001b[0m\u001b[0;34m(\u001b[0m\u001b[0magent\u001b[0m\u001b[0;34m)\u001b[0m\u001b[0;34m\u001b[0m\u001b[0;34m\u001b[0m\u001b[0m\n\u001b[1;32m     55\u001b[0m \u001b[0;34m\u001b[0m\u001b[0m\n",
      "\u001b[0;32m~/my/school-local/cs511/pywumpuslite/agent.py\u001b[0m in \u001b[0;36mchoose_action\u001b[0;34m(self)\u001b[0m\n\u001b[1;32m     49\u001b[0m \u001b[0;34m\u001b[0m\u001b[0m\n\u001b[1;32m     50\u001b[0m     \u001b[0;32mdef\u001b[0m \u001b[0mchoose_action\u001b[0m\u001b[0;34m(\u001b[0m\u001b[0mself\u001b[0m\u001b[0;34m)\u001b[0m\u001b[0;34m:\u001b[0m\u001b[0;34m\u001b[0m\u001b[0;34m\u001b[0m\u001b[0m\n\u001b[0;32m---> 51\u001b[0;31m         \u001b[0;32mreturn\u001b[0m \u001b[0mself\u001b[0m\u001b[0;34m.\u001b[0m\u001b[0magent_function\u001b[0m\u001b[0;34m.\u001b[0m\u001b[0mprocess\u001b[0m\u001b[0;34m(\u001b[0m\u001b[0mself\u001b[0m\u001b[0;34m.\u001b[0m\u001b[0mpercept\u001b[0m\u001b[0;34m)\u001b[0m\u001b[0;34m\u001b[0m\u001b[0;34m\u001b[0m\u001b[0m\n\u001b[0m\u001b[1;32m     52\u001b[0m \u001b[0;34m\u001b[0m\u001b[0m\n\u001b[1;32m     53\u001b[0m     \u001b[0;32mdef\u001b[0m \u001b[0mgo_forward\u001b[0m\u001b[0;34m(\u001b[0m\u001b[0mself\u001b[0m\u001b[0;34m)\u001b[0m\u001b[0;34m:\u001b[0m\u001b[0;34m\u001b[0m\u001b[0;34m\u001b[0m\u001b[0m\n",
      "\u001b[0;32m~/my/school-local/cs511/pywumpuslite/agent_function.py\u001b[0m in \u001b[0;36mprocess\u001b[0;34m(self, percept)\u001b[0m\n\u001b[1;32m    373\u001b[0m         \u001b[0maction\u001b[0m \u001b[0;34m=\u001b[0m \u001b[0mself\u001b[0m\u001b[0;34m.\u001b[0m\u001b[0mplanned_actions\u001b[0m\u001b[0;34m.\u001b[0m\u001b[0mpop\u001b[0m\u001b[0;34m(\u001b[0m\u001b[0;34m)\u001b[0m\u001b[0;34m\u001b[0m\u001b[0;34m\u001b[0m\u001b[0m\n\u001b[1;32m    374\u001b[0m         \u001b[0mprint\u001b[0m\u001b[0;34m(\u001b[0m\u001b[0;34m'frontier locs: {}'\u001b[0m\u001b[0;34m.\u001b[0m\u001b[0mformat\u001b[0m\u001b[0;34m(\u001b[0m\u001b[0mself\u001b[0m\u001b[0;34m.\u001b[0m\u001b[0mfrontier_locs\u001b[0m\u001b[0;34m)\u001b[0m\u001b[0;34m)\u001b[0m\u001b[0;34m\u001b[0m\u001b[0;34m\u001b[0m\u001b[0m\n\u001b[0;32m--> 375\u001b[0;31m         \u001b[0mfrontier_grid\u001b[0m \u001b[0;34m=\u001b[0m \u001b[0mcreate_grid_from_locs\u001b[0m\u001b[0;34m(\u001b[0m\u001b[0mfrontier_locs\u001b[0m\u001b[0;34m)\u001b[0m\u001b[0;34m\u001b[0m\u001b[0;34m\u001b[0m\u001b[0m\n\u001b[0m\u001b[1;32m    376\u001b[0m         \u001b[0mprint_grid\u001b[0m\u001b[0;34m(\u001b[0m\u001b[0mfrontier_grid\u001b[0m\u001b[0;34m,\u001b[0m \u001b[0mtitle\u001b[0m\u001b[0;34m=\u001b[0m\u001b[0;34m\"Frontier\"\u001b[0m\u001b[0;34m)\u001b[0m\u001b[0;34m\u001b[0m\u001b[0;34m\u001b[0m\u001b[0m\n\u001b[1;32m    377\u001b[0m         \u001b[0;31m# ACT\u001b[0m\u001b[0;34m\u001b[0m\u001b[0;34m\u001b[0m\u001b[0;34m\u001b[0m\u001b[0m\n",
      "\u001b[0;31mNameError\u001b[0m: name 'frontier_locs' is not defined"
     ]
    }
   ],
   "source": [
    "reload()\n",
    "print()\n",
    "out_writer = open('wumpus_output.txt', 'w')\n",
    "\n",
    "world_application.run_application(num_trials=1, max_steps=50)"
   ]
  },
  {
   "cell_type": "code",
   "execution_count": null,
   "metadata": {},
   "outputs": [],
   "source": []
  },
  {
   "cell_type": "code",
   "execution_count": null,
   "metadata": {},
   "outputs": [],
   "source": []
  }
 ],
 "metadata": {
  "kernelspec": {
   "display_name": "Python 3",
   "language": "python",
   "name": "python3"
  },
  "toc": {
   "base_numbering": 1,
   "nav_menu": {},
   "number_sections": true,
   "sideBar": true,
   "skip_h1_title": false,
   "title_cell": "Table of Contents",
   "title_sidebar": "Contents",
   "toc_cell": false,
   "toc_position": {},
   "toc_section_display": true,
   "toc_window_display": false
  },
  "varInspector": {
   "cols": {
    "lenName": 16,
    "lenType": 16,
    "lenVar": 40
   },
   "kernels_config": {
    "python": {
     "delete_cmd_postfix": "",
     "delete_cmd_prefix": "del ",
     "library": "var_list.py",
     "varRefreshCmd": "print(var_dic_list())"
    },
    "r": {
     "delete_cmd_postfix": ") ",
     "delete_cmd_prefix": "rm(",
     "library": "var_list.r",
     "varRefreshCmd": "cat(var_dic_list()) "
    }
   },
   "types_to_exclude": [
    "module",
    "function",
    "builtin_function_or_method",
    "instance",
    "_Feature"
   ],
   "window_display": true
  }
 },
 "nbformat": 4,
 "nbformat_minor": 2
}
