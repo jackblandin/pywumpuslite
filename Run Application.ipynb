{
 "cells": [
  {
   "cell_type": "markdown",
   "metadata": {
    "ExecuteTime": {
     "end_time": "2019-01-26T22:36:22.672080Z",
     "start_time": "2019-01-26T22:36:22.669365Z"
    }
   },
   "source": [
    "# Setup"
   ]
  },
  {
   "cell_type": "code",
   "execution_count": 180,
   "metadata": {
    "ExecuteTime": {
     "end_time": "2019-03-11T01:10:02.309931Z",
     "start_time": "2019-03-11T01:10:02.297535Z"
    }
   },
   "outputs": [
    {
     "name": "stdout",
     "output_type": "stream",
     "text": [
      "/Users/jblandin/my/school-local/cs511/pywumpuslite already in sys.path\n",
      "/Users/jblandin/my/school-local/cs511/pywumpuslite already in sys.path\n",
      "/Users/jblandin/my/school-local/cs511/pywumpuslite already in sys.path\n",
      "/Users/jblandin/my/school-local/cs511/pywumpuslite already in sys.path\n",
      "/Users/jblandin/my/school-local/cs511/pywumpuslite already in sys.path\n",
      "/Users/jblandin/my/school-local/cs511/pywumpuslite already in sys.path\n",
      "/Users/jblandin/my/school-local/cs511/pywumpuslite already in sys.path\n"
     ]
    }
   ],
   "source": [
    "import sys\n",
    "import importlib\n",
    "\n",
    "src_path = '/Users/jblandin/my/school-local/cs511/pywumpuslite'\n",
    "\n",
    "def reload_module_by_name(mod_name, var_name, path):\n",
    "    if path is not None and path not in sys.path:\n",
    "        sys.path.append(path)\n",
    "        print('Appended {} to sys.path'.format(path))\n",
    "    else:\n",
    "        print('{} already in sys.path'.format(path))\n",
    "                \n",
    "    for mod in list(sys.modules.keys()):\n",
    "        if mod_name in mod:\n",
    "            del sys.modules[mod]\n",
    "    \n",
    "    if var_name in globals():\n",
    "        del globals()[var_name] # deletes the variable named <var_name>\n",
    "    return importlib.__import__(mod_name)\n",
    "\n",
    "def reload(path=src_path):\n",
    "    global Action, agent_function, agent, environment, simulation, transfer_percept, world_application\n",
    "    agent_function = reload_module_by_name('agent_function', 'agent_function', path=path)\n",
    "    agent = reload_module_by_name('agent', 'agent', path=path)\n",
    "    environment = reload_module_by_name('environment', 'environment', path=path)\n",
    "    simulation = reload_module_by_name('simulation', 'simulation', path=path)\n",
    "    transfer_percept = reload_module_by_name('transfer_percept', 'transfer_percept', path=path)\n",
    "    world_application = reload_module_by_name('world_application', 'world_application', path=path)\n",
    "    Action = reload_module_by_name('action', 'Action', path=path)\n",
    "    import agent_function, agent, environment, simulation, transfer_percept, world_application\n",
    "    \n",
    "reload(src_path)"
   ]
  },
  {
   "cell_type": "markdown",
   "metadata": {
    "heading_collapsed": true
   },
   "source": [
    "# Run"
   ]
  },
  {
   "cell_type": "code",
   "execution_count": 173,
   "metadata": {
    "ExecuteTime": {
     "end_time": "2019-03-11T01:09:15.729845Z",
     "start_time": "2019-03-11T01:09:15.708877Z"
    },
    "hidden": true,
    "scrolled": false
   },
   "outputs": [
    {
     "name": "stdout",
     "output_type": "stream",
     "text": [
      "/Users/jblandin/my/school-local/cs511/pywumpuslite already in sys.path\n",
      "/Users/jblandin/my/school-local/cs511/pywumpuslite already in sys.path\n",
      "/Users/jblandin/my/school-local/cs511/pywumpuslite already in sys.path\n",
      "/Users/jblandin/my/school-local/cs511/pywumpuslite already in sys.path\n",
      "/Users/jblandin/my/school-local/cs511/pywumpuslite already in sys.path\n",
      "/Users/jblandin/my/school-local/cs511/pywumpuslite already in sys.path\n",
      "/Users/jblandin/my/school-local/cs511/pywumpuslite already in sys.path\n",
      "\n",
      "Dimensions: 4 x 4\n",
      "Maximum number of steps: 50\n",
      "Number of trials: 1\n",
      "Random agent location: False\n",
      "Random number seed: -649582\n",
      "Output filename: wumpus_output.txt\n",
      "Non-Deterministic Behavior: False\n",
      "\n",
      " -----------------------\n",
      "| P   |     |     |     | \n",
      "|     |     |     |     | \n",
      " -----------------------\n",
      "|     |     | P   |     | \n",
      "|     |     |     |     | \n",
      " -----------------------\n",
      "|     |     |   W |     | \n",
      "|     |     |     |     | \n",
      " -----------------------\n",
      "|     |     |     |     | \n",
      "|   > | G   |     |     | \n",
      " -----------------------\n",
      "\n",
      "\n",
      "Percept: < none, none, none, none, none >\n",
      "\n",
      "Current score: 0\n",
      "Last action: START_TRIAL\n",
      "Time step: 0\n",
      "removing TURN_RIGHT from possible actions since agent would face a wall.\n",
      "Moving forward since path is clear.\n",
      "\n",
      "Frontier\n",
      "--------\n",
      "\n",
      " ----  ----  ----  ---- \n",
      "\n",
      " ----  ----  ----  ---- \n",
      "\n",
      " 1.00  ----  ----  ---- \n",
      "\n",
      " ----  1.00  ----  ---- \n",
      "\n",
      "\n",
      "Explored\n",
      "--------\n",
      "\n",
      " ----  ----  ----  ---- \n",
      "\n",
      " ----  ----  ----  ---- \n",
      "\n",
      " ----  ----  ----  ---- \n",
      "\n",
      " 1.00  ----  ----  ---- \n",
      "\n",
      "\n",
      "Posterior Death probs\n",
      "---------------------\n",
      "\n",
      " 0.22  0.22  0.22  0.22 \n",
      "\n",
      " 0.22  0.22  0.22  0.22 \n",
      "\n",
      " ----  0.22  0.22  0.22 \n",
      "\n",
      " ----  ----  0.22  0.22 \n",
      "\n",
      "\n",
      " -----------------------\n",
      "| P   |     |     |     | \n",
      "|     |     |     |     | \n",
      " -----------------------\n",
      "|     |     | P   |     | \n",
      "|     |     |     |     | \n",
      " -----------------------\n",
      "|     |     |   W |     | \n",
      "|     |     |     |     | \n",
      " -----------------------\n",
      "|     |     |     |     | \n",
      "|     | G > |     |     | \n",
      " -----------------------\n",
      "\n",
      "\n",
      "Percept: < none, Glitter, none, none, none >\n",
      "\n",
      "Current score: -1\n",
      "Last action: GO_FORWARD\n",
      "Time step: 1\n",
      "\n",
      "Frontier\n",
      "--------\n",
      "\n",
      " ----  ----  ----  ---- \n",
      "\n",
      " ----  ----  ----  ---- \n",
      "\n",
      " 1.00  1.00  ----  ---- \n",
      "\n",
      " ----  ----  1.00  ---- \n",
      "\n",
      "\n",
      "Explored\n",
      "--------\n",
      "\n",
      " ----  ----  ----  ---- \n",
      "\n",
      " ----  ----  ----  ---- \n",
      "\n",
      " ----  ----  ----  ---- \n",
      "\n",
      " 1.00  1.00  ----  ---- \n",
      "\n",
      "\n",
      "Posterior Death probs\n",
      "---------------------\n",
      "\n",
      " 0.26  0.26  0.26  0.26 \n",
      "\n",
      " 0.26  0.26  0.26  0.26 \n",
      "\n",
      " ----  ----  0.26  0.26 \n",
      "\n",
      " ----  ----  ----  0.26 \n",
      "\n",
      "\n",
      " -----------------------\n",
      "| P   |     |     |     | \n",
      "|     |     |     |     | \n",
      " -----------------------\n",
      "|     |     | P   |     | \n",
      "|     |     |     |     | \n",
      " -----------------------\n",
      "|     |     |   W |     | \n",
      "|     |     |     |     | \n",
      " -----------------------\n",
      "|     |     |     |     | \n",
      "|     |   > |     |     | \n",
      " -----------------------\n",
      "\n",
      "\n",
      "Percept: < none, none, none, none, none >\n",
      "\n",
      "Current score: 999\n",
      "Last action: GRAB\n",
      "Time step: 2\n",
      "\n",
      "Sterling Archer found the GOLD!\n",
      "\n",
      " -----------------------\n",
      "| P   |     |     |     | \n",
      "|     |     |     |     | \n",
      " -----------------------\n",
      "|     |     | P   |     | \n",
      "|     |     |     |     | \n",
      " -----------------------\n",
      "|     |     |   W |     | \n",
      "|     |     |     |     | \n",
      " -----------------------\n",
      "|     |     |     |     | \n",
      "|     |   > |     |     | \n",
      " -----------------------\n",
      "\n",
      "\n",
      "Final score: 999\n",
      "Last action: 7\n",
      "Trial number: 1\n",
      "----------------------------------------\n",
      "Trial 0 score: 999.0\n",
      "\n",
      "Total Score: 999.0\n",
      "\n",
      "Average Score: 999.0\n",
      "\n",
      "Agent Found Gold Count: 1\n",
      "Agent Killed Count:     0\n",
      "Agent Stuck Count:      0\n",
      "\n",
      "Finished\n"
     ]
    },
    {
     "data": {
      "text/plain": [
       "<environment.Environment at 0x1083fb6d8>"
      ]
     },
     "execution_count": 173,
     "metadata": {},
     "output_type": "execute_result"
    }
   ],
   "source": [
    "reload()\n",
    "print()\n",
    "out_writer = open('wumpus_output.txt', 'w')\n",
    "\n",
    "world_application.run_application(num_trials=1, max_steps=50)"
   ]
  },
  {
   "cell_type": "markdown",
   "metadata": {},
   "source": [
    "# Scratch"
   ]
  },
  {
   "cell_type": "code",
   "execution_count": 181,
   "metadata": {
    "ExecuteTime": {
     "end_time": "2019-03-11T01:10:06.172981Z",
     "start_time": "2019-03-11T01:10:06.164410Z"
    }
   },
   "outputs": [],
   "source": [
    "def _adjacent_locs(loc, world_size=4):\n",
    "    \"\"\"Returns all adjacent locations.\"\"\"\n",
    "    adj = []\n",
    "    x, y = loc\n",
    "    # square below\n",
    "    if y > 0:\n",
    "        adj.append([x, y-1])\n",
    "    # square above\n",
    "    if y < world_size-1:\n",
    "        adj.append([x, y+1])\n",
    "    # square to the left\n",
    "    if x > 0:\n",
    "        adj.append([x-1, y])\n",
    "    # square to the right\n",
    "    if x < world_size-1:\n",
    "        adj.append([x+1, y])\n",
    "    return adj\n",
    "\n",
    "\n",
    "def _forward_loc(agent_loc, agent_dir, world_size=4):\n",
    "    \"\"\"Returns location in front of agent. If facing a wall, return None.\"\"\"\n",
    "    x, y = agent_loc\n",
    "    if agent_dir == 'N':\n",
    "        if y < world_size-1:\n",
    "            return [x, y+1]\n",
    "        else:\n",
    "            return None\n",
    "    elif agent_dir == 'E':\n",
    "        if x < world_size-1:\n",
    "            return [x+1, y]\n",
    "        else:\n",
    "            return None\n",
    "    elif agent_dir == 'S':\n",
    "        if y > 0:\n",
    "            return [x, y-1]\n",
    "        else:\n",
    "            return None\n",
    "    elif agent_dir == 'W':\n",
    "        if x > 0:\n",
    "            return [x-1, y]\n",
    "        else:\n",
    "            return None\n",
    "\n",
    "def _turn_left_dir(agent_dir):\n",
    "    \"\"\"Returns new direction after turning left.\"\"\"\n",
    "    if agent_dir == 'N':\n",
    "        new_agent_dir = 'W'\n",
    "    elif agent_dir == 'E':\n",
    "        new_agent_dir = 'N'\n",
    "    elif agent_dir == 'S':\n",
    "        new_agent_dir = 'E'\n",
    "    elif agent_dir == 'W':\n",
    "        new_agent_dir = 'S'\n",
    "    return new_agent_dir\n",
    "\n",
    "\n",
    "def _turn_right_dir(agent_dir):\n",
    "    \"\"\"Returns new direction after turning right.\"\"\"\n",
    "    if agent_dir == 'N':\n",
    "        new_agent_dir = 'E'\n",
    "    elif agent_dir == 'E':\n",
    "        new_agent_dir = 'S'\n",
    "    elif agent_dir == 'S':\n",
    "        new_agent_dir = 'W'\n",
    "    elif agent_dir == 'W':\n",
    "        new_agent_dir = 'N'\n",
    "    return new_agent_dir\n",
    "\n"
   ]
  },
  {
   "cell_type": "code",
   "execution_count": 235,
   "metadata": {
    "ExecuteTime": {
     "end_time": "2019-03-11T01:31:42.312912Z",
     "start_time": "2019-03-11T01:31:42.302197Z"
    }
   },
   "outputs": [],
   "source": [
    "def _path_to_loc(cur_loc, dest_loc, explored_locs):\n",
    "    \"\"\"\n",
    "    Using Depth First Search, computes the path from the current loc to the destination loc.\n",
    "    Only explored nodes will be used to get there.\n",
    "    The object returned will be the path of the Node, which is a sequence of locs.\n",
    "    \"\"\"\n",
    "    \n",
    "    class Node:\n",
    "        def __init__(self, parent_node, loc):\n",
    "            self.parent_node = parent_node\n",
    "            self.loc = loc\n",
    "        def path(self):\n",
    "            \"\"\"Builds the path of nodes obtained to get here.\"\"\"\n",
    "            path = [self.loc]\n",
    "            if self.parent_node is None:\n",
    "                return path\n",
    "            else:\n",
    "                return self.parent_node.path() + path\n",
    "    \n",
    "    cur_loc_node = Node(None, cur_loc)\n",
    "    \n",
    "    e = []  # explored (note that this is different than explored_locs param)\n",
    "    f = []  # frontier\n",
    "    \n",
    "    # Initial goal check\n",
    "    if dest_loc == cur_loc:\n",
    "        return n.path()\n",
    "    \n",
    "    e.append(cur_loc)\n",
    "    \n",
    "    # Build initial frontier with locs adj. to cur. loc\n",
    "    adj_to_cur = _adjacent_locs(cur_loc)\n",
    "    for l in explored_locs:\n",
    "        if l in adj_to_cur:\n",
    "            f.insert(0, Node(cur_loc_node, l))\n",
    "    \n",
    "    def _expand(parent):\n",
    "        adj_locs = _adjacent_locs(parent.loc)\n",
    "        adj_and_explored_locs = []\n",
    "        for l in adj_locs:\n",
    "            if (l in explored_locs or l == dest_loc) and l not in e:\n",
    "                child = Node(parent, l)\n",
    "                adj_and_explored_locs.append(child)\n",
    "        return adj_and_explored_locs\n",
    "        \n",
    "    while len(f) > 0:\n",
    "        n = f.pop()\n",
    "        e.append(n.loc)\n",
    "        if n.loc == dest_loc:\n",
    "            return n.path()\n",
    "        else:\n",
    "            f = _expand(n) + f\n",
    "                \n",
    "    raise Exception('No action sequence found')\n",
    "        \n",
    "\n",
    "def _action_seq_to_adj_loc(cur_loc, cur_dir, dest_loc, actions=None):\n",
    "    \"\"\"Called recursively.\n",
    "    Given current loc, current direction, and the destination loc, which must be adjacent to current loc,\n",
    "    computes the action sequence needed to get there as well as the final direction.\n",
    "    \"\"\"\n",
    "    if actions is None:\n",
    "        actions = []\n",
    "    if _forward_loc(cur_loc, cur_dir) == dest_loc:\n",
    "        # Goal check\n",
    "        actions.append(Action.GO_FORWARD)\n",
    "        return actions, cur_dir\n",
    "    else:\n",
    "        # Turn Left (could also turn Right)\n",
    "        actions.append(Action.TURN_LEFT)\n",
    "        new_dir = _turn_left_dir(cur_dir)\n",
    "        # Recurse\n",
    "        return _action_seq_to_adj_loc(cur_loc, new_dir, dest_loc, actions)\n",
    "    \n",
    "         \n",
    "def _action_seq_to_non_adj_loc(cur_loc, cur_dir, dest_loc, explored_locs):\n",
    "    \"\"\"\n",
    "    Given current loc, current direction, and the destination loc, computes the action sequence needed to get there.\n",
    "    Uses depth first search by calling _path_to_loc.\n",
    "    \"\"\"\n",
    "    path = _path_to_loc(cur_loc, dest_loc, explored_locs)\n",
    "    d = cur_dir\n",
    "    actions = []\n",
    "    for idx in range(len(path)-1):\n",
    "        actions, d = _action_seq_to_adj_loc(path[idx], d, path[idx+1], actions)\n",
    "    return actions\n",
    "    "
   ]
  },
  {
   "cell_type": "code",
   "execution_count": 214,
   "metadata": {
    "ExecuteTime": {
     "end_time": "2019-03-11T01:25:29.503525Z",
     "start_time": "2019-03-11T01:25:29.498600Z"
    }
   },
   "outputs": [
    {
     "data": {
      "text/plain": [
       "[[2, 0], [1, 0], [1, 1]]"
      ]
     },
     "execution_count": 214,
     "metadata": {},
     "output_type": "execute_result"
    }
   ],
   "source": [
    "_path_to_loc(cur_loc=[2,0],\n",
    "             dest_loc=[1,1],\n",
    "             explored_locs=[[0,0], [1,0], [2,0], [0,1]])"
   ]
  },
  {
   "cell_type": "code",
   "execution_count": 215,
   "metadata": {
    "ExecuteTime": {
     "end_time": "2019-03-11T01:25:29.970365Z",
     "start_time": "2019-03-11T01:25:29.965423Z"
    }
   },
   "outputs": [
    {
     "data": {
      "text/plain": [
       "([3, 3, 3, 1], 'W')"
      ]
     },
     "execution_count": 215,
     "metadata": {},
     "output_type": "execute_result"
    }
   ],
   "source": [
    "_action_seq_to_adj_loc([2,0], 'S', [1,0])"
   ]
  },
  {
   "cell_type": "code",
   "execution_count": 239,
   "metadata": {
    "ExecuteTime": {
     "end_time": "2019-03-11T01:32:25.729871Z",
     "start_time": "2019-03-11T01:32:25.724351Z"
    }
   },
   "outputs": [
    {
     "data": {
      "text/plain": [
       "['TURN_LEFT',\n",
       " 'TURN_LEFT',\n",
       " 'GO_FORWARD',\n",
       " 'GO_FORWARD',\n",
       " 'TURN_LEFT',\n",
       " 'TURN_LEFT',\n",
       " 'TURN_LEFT',\n",
       " 'GO_FORWARD',\n",
       " 'GO_FORWARD']"
      ]
     },
     "execution_count": 239,
     "metadata": {},
     "output_type": "execute_result"
    }
   ],
   "source": [
    "seq =_action_seq_to_non_adj_loc(cur_loc=[2,0],\n",
    "                           cur_dir='E',\n",
    "                           dest_loc=[0,2],\n",
    "                           explored_locs=[[0,0], [1,0], [2,0], [0,1]])\n",
    "\n",
    "Action.print_actions(seq)"
   ]
  },
  {
   "cell_type": "code",
   "execution_count": null,
   "metadata": {},
   "outputs": [],
   "source": []
  }
 ],
 "metadata": {
  "kernelspec": {
   "display_name": "Python 3",
   "language": "python",
   "name": "python3"
  },
  "toc": {
   "base_numbering": 1,
   "nav_menu": {},
   "number_sections": true,
   "sideBar": true,
   "skip_h1_title": false,
   "title_cell": "Table of Contents",
   "title_sidebar": "Contents",
   "toc_cell": false,
   "toc_position": {},
   "toc_section_display": true,
   "toc_window_display": false
  },
  "varInspector": {
   "cols": {
    "lenName": 16,
    "lenType": 16,
    "lenVar": 40
   },
   "kernels_config": {
    "python": {
     "delete_cmd_postfix": "",
     "delete_cmd_prefix": "del ",
     "library": "var_list.py",
     "varRefreshCmd": "print(var_dic_list())"
    },
    "r": {
     "delete_cmd_postfix": ") ",
     "delete_cmd_prefix": "rm(",
     "library": "var_list.r",
     "varRefreshCmd": "cat(var_dic_list()) "
    }
   },
   "position": {
    "height": "2012px",
    "left": "2902px",
    "right": "148px",
    "top": "184px",
    "width": "362px"
   },
   "types_to_exclude": [
    "module",
    "function",
    "builtin_function_or_method",
    "instance",
    "_Feature"
   ],
   "window_display": true
  }
 },
 "nbformat": 4,
 "nbformat_minor": 2
}
