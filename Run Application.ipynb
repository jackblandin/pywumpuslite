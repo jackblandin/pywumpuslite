{
 "cells": [
  {
   "cell_type": "markdown",
   "metadata": {
    "ExecuteTime": {
     "end_time": "2019-01-26T22:36:22.672080Z",
     "start_time": "2019-01-26T22:36:22.669365Z"
    }
   },
   "source": [
    "# Setup"
   ]
  },
  {
   "cell_type": "code",
   "execution_count": 4,
   "metadata": {
    "ExecuteTime": {
     "end_time": "2019-04-27T22:10:16.796871Z",
     "start_time": "2019-04-27T22:10:16.778318Z"
    }
   },
   "outputs": [
    {
     "name": "stdout",
     "output_type": "stream",
     "text": [
      "/Users/jblandin/my/school-local/cs511/pywumpuslite already in sys.path\n",
      "/Users/jblandin/my/school-local/cs511/pywumpuslite already in sys.path\n",
      "/Users/jblandin/my/school-local/cs511/pywumpuslite already in sys.path\n",
      "/Users/jblandin/my/school-local/cs511/pywumpuslite already in sys.path\n",
      "/Users/jblandin/my/school-local/cs511/pywumpuslite already in sys.path\n",
      "/Users/jblandin/my/school-local/cs511/pywumpuslite already in sys.path\n",
      "/Users/jblandin/my/school-local/cs511/pywumpuslite already in sys.path\n"
     ]
    }
   ],
   "source": [
    "import sys\n",
    "import importlib\n",
    "\n",
    "src_path = '/Users/jblandin/my/school-local/cs511/pywumpuslite'\n",
    "\n",
    "def reload_module_by_name(mod_name, var_name, path):\n",
    "    if path is not None and path not in sys.path:\n",
    "        sys.path.append(path)\n",
    "        print('Appended {} to sys.path'.format(path))\n",
    "    else:\n",
    "        print('{} already in sys.path'.format(path))\n",
    "                \n",
    "    for mod in list(sys.modules.keys()):\n",
    "        if mod_name in mod:\n",
    "            del sys.modules[mod]\n",
    "    \n",
    "    if var_name in globals():\n",
    "        del globals()[var_name] # deletes the variable named <var_name>\n",
    "    return importlib.__import__(mod_name)\n",
    "\n",
    "def reload(path=src_path):\n",
    "    global Action, agent_function, agent, environment, simulation, transfer_percept, world_application\n",
    "    agent_function = reload_module_by_name('agent_function', 'agent_function', path=path)\n",
    "    agent = reload_module_by_name('agent', 'agent', path=path)\n",
    "    environment = reload_module_by_name('environment', 'environment', path=path)\n",
    "    simulation = reload_module_by_name('simulation', 'simulation', path=path)\n",
    "    transfer_percept = reload_module_by_name('transfer_percept', 'transfer_percept', path=path)\n",
    "    world_application = reload_module_by_name('world_application', 'world_application', path=path)\n",
    "    Action = reload_module_by_name('action', 'Action', path=path)\n",
    "    import agent_function, agent, environment, simulation, transfer_percept, world_application\n",
    "    \n",
    "reload(src_path)"
   ]
  },
  {
   "cell_type": "markdown",
   "metadata": {},
   "source": [
    "# Run"
   ]
  },
  {
   "cell_type": "code",
   "execution_count": 5,
   "metadata": {
    "ExecuteTime": {
     "end_time": "2019-04-27T22:10:17.480350Z",
     "start_time": "2019-04-27T22:10:17.443524Z"
    },
    "scrolled": false
   },
   "outputs": [
    {
     "name": "stdout",
     "output_type": "stream",
     "text": [
      "/Users/jblandin/my/school-local/cs511/pywumpuslite already in sys.path\n",
      "/Users/jblandin/my/school-local/cs511/pywumpuslite already in sys.path\n",
      "/Users/jblandin/my/school-local/cs511/pywumpuslite already in sys.path\n",
      "/Users/jblandin/my/school-local/cs511/pywumpuslite already in sys.path\n",
      "/Users/jblandin/my/school-local/cs511/pywumpuslite already in sys.path\n",
      "/Users/jblandin/my/school-local/cs511/pywumpuslite already in sys.path\n",
      "/Users/jblandin/my/school-local/cs511/pywumpuslite already in sys.path\n",
      "\n",
      "Dimensions: 4 x 4\n",
      "Maximum number of steps: 50\n",
      "Number of trials: 1\n",
      "Random agent location: False\n",
      "Random number seed: 55029\n",
      "Output filename: wumpus_output.txt\n",
      "Non-Deterministic Behavior: False\n",
      "\n",
      " -----------------------\n",
      "| P   |     |     |     | \n",
      "|     |     |     |     | \n",
      " -----------------------\n",
      "|     |     |     |     | \n",
      "| G   |     |     |     | \n",
      " -----------------------\n",
      "|   W |     | P   |     | \n",
      "|     |     |     |     | \n",
      " -----------------------\n",
      "|     |     |     |     | \n",
      "|   > |     |     |     | \n",
      " -----------------------\n",
      "\n",
      "\n",
      "Percept: < none, none, none, Stench, none >\n",
      "\n",
      "Current score: 0\n",
      "Last action: START_TRIAL\n",
      "Time step: 0\n",
      "planned_actions: [5]\n",
      "\n",
      "Frontier\n",
      "--------\n",
      "\n",
      " ----  ----  ----  ---- \n",
      "\n",
      " ----  ----  ----  ---- \n",
      "\n",
      " ----  ----  ----  ---- \n",
      "\n",
      " ----  ----  ----  ---- \n",
      "\n",
      "\n",
      "Explored\n",
      "--------\n",
      "\n",
      " ----  ----  ----  ---- \n",
      "\n",
      " ----  ----  ----  ---- \n",
      "\n",
      " ----  ----  ----  ---- \n",
      "\n",
      " 1.00  ----  ----  ---- \n",
      "\n",
      "\n",
      "Posterior Death probs\n",
      "---------------------\n",
      "\n",
      " 0.15  0.15  0.15  0.15 \n",
      "\n",
      " 0.15  0.15  0.15  0.15 \n",
      "\n",
      " 0.52  0.15  0.15  0.15 \n",
      "\n",
      " ----  0.52  0.15  0.15 \n",
      "\n"
     ]
    },
    {
     "ename": "AttributeError",
     "evalue": "'AgentFunction' object has no attribute 'U'",
     "output_type": "error",
     "traceback": [
      "\u001b[0;31m---------------------------------------------------------------------------\u001b[0m",
      "\u001b[0;31mAttributeError\u001b[0m                            Traceback (most recent call last)",
      "\u001b[0;32m<ipython-input-5-fdc92943b3da>\u001b[0m in \u001b[0;36m<module>\u001b[0;34m()\u001b[0m\n\u001b[1;32m      3\u001b[0m \u001b[0mout_writer\u001b[0m \u001b[0;34m=\u001b[0m \u001b[0mopen\u001b[0m\u001b[0;34m(\u001b[0m\u001b[0;34m'wumpus_output.txt'\u001b[0m\u001b[0;34m,\u001b[0m \u001b[0;34m'w'\u001b[0m\u001b[0;34m)\u001b[0m\u001b[0;34m\u001b[0m\u001b[0;34m\u001b[0m\u001b[0m\n\u001b[1;32m      4\u001b[0m \u001b[0;34m\u001b[0m\u001b[0m\n\u001b[0;32m----> 5\u001b[0;31m \u001b[0mworld_application\u001b[0m\u001b[0;34m.\u001b[0m\u001b[0mrun_application\u001b[0m\u001b[0;34m(\u001b[0m\u001b[0mnum_trials\u001b[0m\u001b[0;34m=\u001b[0m\u001b[0;36m1\u001b[0m\u001b[0;34m,\u001b[0m \u001b[0mmax_steps\u001b[0m\u001b[0;34m=\u001b[0m\u001b[0;36m50\u001b[0m\u001b[0;34m)\u001b[0m\u001b[0;34m\u001b[0m\u001b[0;34m\u001b[0m\u001b[0m\n\u001b[0m",
      "\u001b[0;32m~/my/school-local/cs511/pywumpuslite/world_application.py\u001b[0m in \u001b[0;36mrun_application\u001b[0;34m(world_size, max_steps, num_trials, random_agent_loc, seed, non_deterministic_mode, random_world, out_filename, out_writer)\u001b[0m\n\u001b[1;32m     65\u001b[0m         trial = Simulation(wumpus_env, max_steps, out_writer,\n\u001b[1;32m     66\u001b[0m                            non_deterministic_mode)\n\u001b[0;32m---> 67\u001b[0;31m         \u001b[0mtrial\u001b[0m\u001b[0;34m.\u001b[0m\u001b[0mrun\u001b[0m\u001b[0;34m(\u001b[0m\u001b[0;34m)\u001b[0m\u001b[0;34m\u001b[0m\u001b[0;34m\u001b[0m\u001b[0m\n\u001b[0m\u001b[1;32m     68\u001b[0m         \u001b[0mtrial_scores\u001b[0m\u001b[0;34m[\u001b[0m\u001b[0mi\u001b[0m\u001b[0;34m]\u001b[0m \u001b[0;34m=\u001b[0m \u001b[0mtrial\u001b[0m\u001b[0;34m.\u001b[0m\u001b[0mget_score\u001b[0m\u001b[0;34m(\u001b[0m\u001b[0;34m)\u001b[0m\u001b[0;34m\u001b[0m\u001b[0;34m\u001b[0m\u001b[0m\n\u001b[1;32m     69\u001b[0m         \u001b[0;32mif\u001b[0m \u001b[0mtrial\u001b[0m\u001b[0;34m.\u001b[0m\u001b[0mget_did_agent_find_gold\u001b[0m\u001b[0;34m(\u001b[0m\u001b[0;34m)\u001b[0m\u001b[0;34m:\u001b[0m\u001b[0;34m\u001b[0m\u001b[0;34m\u001b[0m\u001b[0m\n",
      "\u001b[0;32m~/my/school-local/cs511/pywumpuslite/simulation.py\u001b[0m in \u001b[0;36mrun\u001b[0;34m(self)\u001b[0m\n\u001b[1;32m     51\u001b[0m             \u001b[0mout\u001b[0m\u001b[0;34m(\u001b[0m\u001b[0mself\u001b[0m\u001b[0;34m.\u001b[0m\u001b[0mout_writer\u001b[0m\u001b[0;34m,\u001b[0m \u001b[0mmsg\u001b[0m\u001b[0;34m)\u001b[0m\u001b[0;34m\u001b[0m\u001b[0;34m\u001b[0m\u001b[0m\n\u001b[1;32m     52\u001b[0m \u001b[0;34m\u001b[0m\u001b[0m\n\u001b[0;32m---> 53\u001b[0;31m             \u001b[0mself\u001b[0m\u001b[0;34m.\u001b[0m\u001b[0m_handle_action\u001b[0m\u001b[0;34m(\u001b[0m\u001b[0magent\u001b[0m\u001b[0;34m,\u001b[0m \u001b[0magent\u001b[0m\u001b[0;34m.\u001b[0m\u001b[0mchoose_action\u001b[0m\u001b[0;34m(\u001b[0m\u001b[0;34m)\u001b[0m\u001b[0;34m,\u001b[0m \u001b[0menv\u001b[0m\u001b[0;34m)\u001b[0m\u001b[0;34m\u001b[0m\u001b[0;34m\u001b[0m\u001b[0m\n\u001b[0m\u001b[1;32m     54\u001b[0m             \u001b[0mprint\u001b[0m\u001b[0;34m(\u001b[0m\u001b[0;34m'\\n{}\\n'\u001b[0m\u001b[0;34m.\u001b[0m\u001b[0mformat\u001b[0m\u001b[0;34m(\u001b[0m\u001b[0;36m75\u001b[0m\u001b[0;34m*\u001b[0m\u001b[0;34m'-'\u001b[0m\u001b[0;34m)\u001b[0m\u001b[0;34m)\u001b[0m\u001b[0;34m\u001b[0m\u001b[0;34m\u001b[0m\u001b[0m\n\u001b[1;32m     55\u001b[0m             \u001b[0menv\u001b[0m\u001b[0;34m.\u001b[0m\u001b[0mplace_agent\u001b[0m\u001b[0;34m(\u001b[0m\u001b[0magent\u001b[0m\u001b[0;34m)\u001b[0m\u001b[0;34m\u001b[0m\u001b[0;34m\u001b[0m\u001b[0m\n",
      "\u001b[0;32m~/my/school-local/cs511/pywumpuslite/agent.py\u001b[0m in \u001b[0;36mchoose_action\u001b[0;34m(self)\u001b[0m\n\u001b[1;32m     49\u001b[0m \u001b[0;34m\u001b[0m\u001b[0m\n\u001b[1;32m     50\u001b[0m     \u001b[0;32mdef\u001b[0m \u001b[0mchoose_action\u001b[0m\u001b[0;34m(\u001b[0m\u001b[0mself\u001b[0m\u001b[0;34m)\u001b[0m\u001b[0;34m:\u001b[0m\u001b[0;34m\u001b[0m\u001b[0;34m\u001b[0m\u001b[0m\n\u001b[0;32m---> 51\u001b[0;31m         \u001b[0;32mreturn\u001b[0m \u001b[0mself\u001b[0m\u001b[0;34m.\u001b[0m\u001b[0magent_function\u001b[0m\u001b[0;34m.\u001b[0m\u001b[0mprocess\u001b[0m\u001b[0;34m(\u001b[0m\u001b[0mself\u001b[0m\u001b[0;34m.\u001b[0m\u001b[0mpercept\u001b[0m\u001b[0;34m)\u001b[0m\u001b[0;34m\u001b[0m\u001b[0;34m\u001b[0m\u001b[0m\n\u001b[0m\u001b[1;32m     52\u001b[0m \u001b[0;34m\u001b[0m\u001b[0m\n\u001b[1;32m     53\u001b[0m     \u001b[0;32mdef\u001b[0m \u001b[0mgo_forward\u001b[0m\u001b[0;34m(\u001b[0m\u001b[0mself\u001b[0m\u001b[0;34m)\u001b[0m\u001b[0;34m:\u001b[0m\u001b[0;34m\u001b[0m\u001b[0;34m\u001b[0m\u001b[0m\n",
      "\u001b[0;32m~/my/school-local/cs511/pywumpuslite/agent_function.py\u001b[0m in \u001b[0;36mprocess\u001b[0;34m(self, percept)\u001b[0m\n\u001b[1;32m    487\u001b[0m         \u001b[0maction\u001b[0m \u001b[0;34m=\u001b[0m \u001b[0mself\u001b[0m\u001b[0;34m.\u001b[0m\u001b[0m_next_action\u001b[0m\u001b[0;34m(\u001b[0m\u001b[0mpercept\u001b[0m\u001b[0;34m)\u001b[0m\u001b[0;34m\u001b[0m\u001b[0;34m\u001b[0m\u001b[0m\n\u001b[1;32m    488\u001b[0m         \u001b[0;31m# ACT\u001b[0m\u001b[0;34m\u001b[0m\u001b[0;34m\u001b[0m\u001b[0;34m\u001b[0m\u001b[0m\n\u001b[0;32m--> 489\u001b[0;31m         self.belief_state = _transition_func(self.belief_state, self.U,\n\u001b[0m\u001b[1;32m    490\u001b[0m                                              action, self.env_config)\n\u001b[1;32m    491\u001b[0m         \u001b[0mr\u001b[0m \u001b[0;34m=\u001b[0m \u001b[0m_reward\u001b[0m\u001b[0;34m(\u001b[0m\u001b[0mself\u001b[0m\u001b[0;34m.\u001b[0m\u001b[0mbelief_state\u001b[0m\u001b[0;34m)\u001b[0m\u001b[0;34m\u001b[0m\u001b[0;34m\u001b[0m\u001b[0m\n",
      "\u001b[0;31mAttributeError\u001b[0m: 'AgentFunction' object has no attribute 'U'"
     ]
    }
   ],
   "source": [
    "reload()\n",
    "print()\n",
    "out_writer = open('wumpus_output.txt', 'w')\n",
    "\n",
    "world_application.run_application(num_trials=1, max_steps=50)"
   ]
  },
  {
   "cell_type": "markdown",
   "metadata": {
    "heading_collapsed": true
   },
   "source": [
    "# Scratch"
   ]
  },
  {
   "cell_type": "code",
   "execution_count": 181,
   "metadata": {
    "ExecuteTime": {
     "end_time": "2019-03-11T01:10:06.172981Z",
     "start_time": "2019-03-11T01:10:06.164410Z"
    },
    "hidden": true
   },
   "outputs": [],
   "source": [
    "def _adjacent_locs(loc, world_size=4):\n",
    "    \"\"\"Returns all adjacent locations.\"\"\"\n",
    "    adj = []\n",
    "    x, y = loc\n",
    "    # square below\n",
    "    if y > 0:\n",
    "        adj.append([x, y-1])\n",
    "    # square above\n",
    "    if y < world_size-1:\n",
    "        adj.append([x, y+1])\n",
    "    # square to the left\n",
    "    if x > 0:\n",
    "        adj.append([x-1, y])\n",
    "    # square to the right\n",
    "    if x < world_size-1:\n",
    "        adj.append([x+1, y])\n",
    "    return adj\n",
    "\n",
    "\n",
    "def _forward_loc(agent_loc, agent_dir, world_size=4):\n",
    "    \"\"\"Returns location in front of agent. If facing a wall, return None.\"\"\"\n",
    "    x, y = agent_loc\n",
    "    if agent_dir == 'N':\n",
    "        if y < world_size-1:\n",
    "            return [x, y+1]\n",
    "        else:\n",
    "            return None\n",
    "    elif agent_dir == 'E':\n",
    "        if x < world_size-1:\n",
    "            return [x+1, y]\n",
    "        else:\n",
    "            return None\n",
    "    elif agent_dir == 'S':\n",
    "        if y > 0:\n",
    "            return [x, y-1]\n",
    "        else:\n",
    "            return None\n",
    "    elif agent_dir == 'W':\n",
    "        if x > 0:\n",
    "            return [x-1, y]\n",
    "        else:\n",
    "            return None\n",
    "\n",
    "def _turn_left_dir(agent_dir):\n",
    "    \"\"\"Returns new direction after turning left.\"\"\"\n",
    "    if agent_dir == 'N':\n",
    "        new_agent_dir = 'W'\n",
    "    elif agent_dir == 'E':\n",
    "        new_agent_dir = 'N'\n",
    "    elif agent_dir == 'S':\n",
    "        new_agent_dir = 'E'\n",
    "    elif agent_dir == 'W':\n",
    "        new_agent_dir = 'S'\n",
    "    return new_agent_dir\n",
    "\n",
    "\n",
    "def _turn_right_dir(agent_dir):\n",
    "    \"\"\"Returns new direction after turning right.\"\"\"\n",
    "    if agent_dir == 'N':\n",
    "        new_agent_dir = 'E'\n",
    "    elif agent_dir == 'E':\n",
    "        new_agent_dir = 'S'\n",
    "    elif agent_dir == 'S':\n",
    "        new_agent_dir = 'W'\n",
    "    elif agent_dir == 'W':\n",
    "        new_agent_dir = 'N'\n",
    "    return new_agent_dir\n",
    "\n"
   ]
  },
  {
   "cell_type": "code",
   "execution_count": 262,
   "metadata": {
    "ExecuteTime": {
     "end_time": "2019-03-11T22:43:58.856162Z",
     "start_time": "2019-03-11T22:43:58.825943Z"
    },
    "hidden": true
   },
   "outputs": [],
   "source": [
    "def _path_to_loc(cur_loc, dest_loc, explored_locs):\n",
    "    \"\"\"\n",
    "    Using Depth First Search, computes the path from the current loc to the destination loc.\n",
    "    Only explored nodes will be used to get there.\n",
    "    The object returned will be the path of the Node, which is a sequence of locs.\n",
    "    \"\"\"\n",
    "    \n",
    "    class Node:\n",
    "        def __init__(self, parent_node, loc):\n",
    "            self.parent_node = parent_node\n",
    "            self.loc = loc\n",
    "        def path(self):\n",
    "            \"\"\"Builds the path of nodes obtained to get here.\"\"\"\n",
    "            path = [self.loc]\n",
    "            if self.parent_node is None:\n",
    "                return path\n",
    "            else:\n",
    "                return self.parent_node.path() + path\n",
    "    \n",
    "    cur_loc_node = Node(None, cur_loc)\n",
    "    \n",
    "    e = []  # explored (note that this is different than explored_locs param)\n",
    "    f = []  # frontier\n",
    "    \n",
    "    # Initial goal check\n",
    "    if dest_loc == cur_loc:\n",
    "        return cur_loc_node.path()\n",
    "    \n",
    "    e.append(cur_loc)\n",
    "    \n",
    "    # Build initial frontier with locs adj. to cur. loc\n",
    "    adj_to_cur = _adjacent_locs(cur_loc)\n",
    "    for l in (explored_locs + [dest_loc]):\n",
    "        if l in adj_to_cur:\n",
    "            f.insert(0, Node(cur_loc_node, l))\n",
    "    \n",
    "    def _expand(parent):\n",
    "        adj_locs = _adjacent_locs(parent.loc)\n",
    "        adj_and_explored_locs = []\n",
    "        for l in adj_locs:\n",
    "            if (l in explored_locs or l == dest_loc) and l not in e:\n",
    "                child = Node(parent, l)\n",
    "                adj_and_explored_locs.append(child)\n",
    "        return adj_and_explored_locs\n",
    "        \n",
    "    while len(f) > 0:\n",
    "        n = f.pop()\n",
    "        e.append(n.loc)\n",
    "        if n.loc == dest_loc:\n",
    "            return n.path()\n",
    "        else:\n",
    "            f = _expand(n) + f\n",
    "                \n",
    "    raise Exception('No action sequence found')\n",
    "        \n",
    "\n",
    "def _action_seq_to_adj_loc(cur_loc, cur_dir, dest_loc, actions=None):\n",
    "    \"\"\"Called recursively.\n",
    "    Given current loc, current direction, and the destination loc, which must be adjacent to current loc,\n",
    "    computes the action sequence needed to get there as well as the final direction.\n",
    "    \"\"\"\n",
    "    if actions is None:\n",
    "        actions = []\n",
    "    # Check stopping criteria\n",
    "    if _forward_loc(cur_loc, cur_dir) == dest_loc:\n",
    "        actions.append(Action.GO_FORWARD)\n",
    "        return actions, cur_dir\n",
    "    else:\n",
    "        # Turn Left (could also turn Right)\n",
    "        # TODO 03/11/2019 \n",
    "        actions.append(Action.TURN_LEFT)\n",
    "        new_dir = _turn_left_dir(cur_dir)\n",
    "        # Recurse\n",
    "        return _action_seq_to_adj_loc(cur_loc, new_dir, dest_loc, actions)\n",
    "    \n",
    "         \n",
    "def _action_seq_to_non_adj_loc(cur_loc, cur_dir, dest_loc, explored_locs):\n",
    "    \"\"\"\n",
    "    Given current loc, current direction, and the destination loc, computes the action sequence needed to get there.\n",
    "    Uses depth first search by calling _path_to_loc.\n",
    "    \"\"\"\n",
    "    path = _path_to_loc(cur_loc, dest_loc, explored_locs)\n",
    "    d = cur_dir\n",
    "    actions = []\n",
    "    for idx in range(len(path)-1):\n",
    "        actions, d = _action_seq_to_adj_loc(path[idx], d, path[idx+1], actions)\n",
    "    return actions\n",
    "    "
   ]
  },
  {
   "cell_type": "code",
   "execution_count": 263,
   "metadata": {
    "ExecuteTime": {
     "end_time": "2019-03-11T22:43:59.381159Z",
     "start_time": "2019-03-11T22:43:59.372537Z"
    },
    "hidden": true
   },
   "outputs": [
    {
     "data": {
      "text/plain": [
       "[[0, 0], [0, 1]]"
      ]
     },
     "execution_count": 263,
     "metadata": {},
     "output_type": "execute_result"
    }
   ],
   "source": [
    "_path_to_loc(cur_loc=[0,0],\n",
    "             dest_loc=[0,1],\n",
    "             explored_locs=[[0,0]])"
   ]
  },
  {
   "cell_type": "code",
   "execution_count": 264,
   "metadata": {
    "ExecuteTime": {
     "end_time": "2019-03-11T22:44:01.768959Z",
     "start_time": "2019-03-11T22:44:01.763628Z"
    },
    "hidden": true
   },
   "outputs": [
    {
     "data": {
      "text/plain": [
       "([3, 3, 3, 1], 'W')"
      ]
     },
     "execution_count": 264,
     "metadata": {},
     "output_type": "execute_result"
    }
   ],
   "source": [
    "_action_seq_to_adj_loc([2,0], 'S', [1,0])"
   ]
  },
  {
   "cell_type": "code",
   "execution_count": 265,
   "metadata": {
    "ExecuteTime": {
     "end_time": "2019-03-11T22:44:02.887917Z",
     "start_time": "2019-03-11T22:44:02.882259Z"
    },
    "hidden": true
   },
   "outputs": [
    {
     "data": {
      "text/plain": [
       "['TURN_LEFT',\n",
       " 'TURN_LEFT',\n",
       " 'GO_FORWARD',\n",
       " 'GO_FORWARD',\n",
       " 'TURN_LEFT',\n",
       " 'TURN_LEFT',\n",
       " 'TURN_LEFT',\n",
       " 'GO_FORWARD',\n",
       " 'GO_FORWARD']"
      ]
     },
     "execution_count": 265,
     "metadata": {},
     "output_type": "execute_result"
    }
   ],
   "source": [
    "seq =_action_seq_to_non_adj_loc(cur_loc=[2,0],\n",
    "                           cur_dir='E',\n",
    "                           dest_loc=[0,2],\n",
    "                           explored_locs=[[0,0], [1,0], [2,0], [0,1]])\n",
    "\n",
    "Action.print_actions(seq)"
   ]
  },
  {
   "cell_type": "code",
   "execution_count": null,
   "metadata": {
    "hidden": true
   },
   "outputs": [],
   "source": []
  }
 ],
 "metadata": {
  "kernelspec": {
   "display_name": "Python 3",
   "language": "python",
   "name": "python3"
  },
  "language_info": {
   "codemirror_mode": {
    "name": "ipython",
    "version": 3
   },
   "file_extension": ".py",
   "mimetype": "text/x-python",
   "name": "python",
   "nbconvert_exporter": "python",
   "pygments_lexer": "ipython3",
   "version": "3.7.3"
  },
  "toc": {
   "base_numbering": 1,
   "nav_menu": {},
   "number_sections": true,
   "sideBar": true,
   "skip_h1_title": false,
   "title_cell": "Table of Contents",
   "title_sidebar": "Contents",
   "toc_cell": false,
   "toc_position": {},
   "toc_section_display": true,
   "toc_window_display": false
  },
  "varInspector": {
   "cols": {
    "lenName": 16,
    "lenType": 16,
    "lenVar": 40
   },
   "kernels_config": {
    "python": {
     "delete_cmd_postfix": "",
     "delete_cmd_prefix": "del ",
     "library": "var_list.py",
     "varRefreshCmd": "print(var_dic_list())"
    },
    "r": {
     "delete_cmd_postfix": ") ",
     "delete_cmd_prefix": "rm(",
     "library": "var_list.r",
     "varRefreshCmd": "cat(var_dic_list()) "
    }
   },
   "position": {
    "height": "2012px",
    "left": "2902px",
    "right": "148px",
    "top": "184px",
    "width": "362px"
   },
   "types_to_exclude": [
    "module",
    "function",
    "builtin_function_or_method",
    "instance",
    "_Feature"
   ],
   "window_display": false
  }
 },
 "nbformat": 4,
 "nbformat_minor": 2
}
